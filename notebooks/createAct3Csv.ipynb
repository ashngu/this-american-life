{
 "cells": [
  {
   "cell_type": "code",
   "execution_count": 2,
   "metadata": {
    "collapsed": true
   },
   "outputs": [],
   "source": [
    "import pandas as pd\n",
    "import json\n",
    "import collections\n",
    "import csv"
   ]
  },
  {
   "cell_type": "code",
   "execution_count": 9,
   "metadata": {},
   "outputs": [],
   "source": [
    "# get dialogue of each act\n",
    "df = pd.read_csv(\"../data/dialoguebyact.csv\")\n",
    "df = df[df[\"act\"] != 0.21] #ignore credits\n",
    "\n",
    "# contributors of each act\n",
    "contributors_dataset = pd.read_csv(\"../data/contributorForEachActFinal.csv\")\n",
    "\n",
    "# create gender file with contributors that never speak\n",
    "gender_dataset = pd.read_csv(\"../data/gender.csv\")\n",
    "contributorWithoutDialogueGender = pd.read_csv(\"../data/contributorWithoutDialogueGender.csv\")\n",
    "gender_dataset2 = pd.concat([gender_dataset, contributorWithoutDialogueGender])\n",
    "\n",
    "contributorsUppercase = contributors_dataset\n",
    "# lowercase all the names so they can match\n",
    "gender_dataset2[\"name\"] = gender_dataset2[\"name\"].str.lower()\n",
    "contributors_dataset[\"name\"] = contributors_dataset[\"name\"].str.lower()\n",
    "\n",
    "# merge contributor listing with gender listing\n",
    "contributors_gender = contributors_dataset.merge(gender_dataset2, on=\"name\")"
   ]
  },
  {
   "cell_type": "code",
   "execution_count": 28,
   "metadata": {},
   "outputs": [],
   "source": [
    "df[\"name\"] = df[\"name\"].str.lower()\n",
    "subjectsPerAct = df[(df[\"role\"]==\"subject\")][[\"episode-act\",\"name\",\"gender\",\"wordCount\"]].groupby([\"name\",\"episode-act\",\"gender\"]).sum()[\"wordCount\"].reset_index()"
   ]
  },
  {
   "cell_type": "code",
   "execution_count": null,
   "metadata": {
    "collapsed": true
   },
   "outputs": [],
   "source": [
    "contributors_gender.to_csv(\"../data/producersOfEachAct.csv\", index=False)\n",
    "subjectsPerAct.to_csv(\"../data/subjectsOfEachAct.csv\", index=False)"
   ]
  },
  {
   "cell_type": "code",
   "execution_count": null,
   "metadata": {
    "collapsed": true
   },
   "outputs": [],
   "source": [
    "# getting reporter gender breakdown per act\n",
    "producerGenders = []\n",
    "\n",
    "for episode in range(1, 624):\n",
    "    for act in range(0, 22):\n",
    "        episodeAct = episode + float(act) * 0.01\n",
    "        producers = contributors_gender[contributors_gender[\"episode-act\"]== episodeAct]\n",
    "        maleCount = 0\n",
    "        femaleCount = 0\n",
    "        for index, row in producers.iterrows():\n",
    "#             if (row[\"name\"] != \"ira glass\"):\n",
    "            if row[\"gender\"] == \"M\":\n",
    "                maleCount += 1\n",
    "            if row[\"gender\"] == \"F\":\n",
    "                femaleCount += 1\n",
    "        total = float(femaleCount + maleCount)\n",
    "        malepercent = -1\n",
    "        femalepercent = -1\n",
    "        if total != 0:\n",
    "            malepercent = maleCount/total\n",
    "            femalepercent = femaleCount/total\n",
    "        producerGenders.append([episodeAct, malepercent, femalepercent, maleCount, femaleCount, total])\n",
    "\n",
    "with open('../data/producersGender.csv', 'wb') as f: \n",
    "    w = csv.writer(f)\n",
    "    w.writerow([\"episode-act\",\"male%\",\"female%\",\"male\",\"female\",\"total\"])\n",
    "    for list1 in producerGenders:\n",
    "        w.writerow(list1)"
   ]
  },
  {
   "cell_type": "code",
   "execution_count": null,
   "metadata": {
    "collapsed": true
   },
   "outputs": [],
   "source": [
    "producerGenderData = pd.read_csv(\"../data/producersGender.csv\")\n",
    "producerGenderData = producerGenderData.drop_duplicates()"
   ]
  },
  {
   "cell_type": "code",
   "execution_count": 8,
   "metadata": {},
   "outputs": [
    {
     "data": {
      "text/plain": [
       "(2467, 6)"
      ]
     },
     "execution_count": 8,
     "metadata": {},
     "output_type": "execute_result"
    }
   ],
   "source": [
    "# exclude prologues, credits, and acts where no reporter is listed\n",
    "producerGenderData[(producerGenderData[\"male%\"] != -1)  & (producerGenderData[\"episode-act\"] != 0.00) & (producerGenderData[\"episode-act\"] != 0.21)].shape"
   ]
  },
  {
   "cell_type": "code",
   "execution_count": 9,
   "metadata": {
    "collapsed": true
   },
   "outputs": [],
   "source": [
    "# getting subject/interviewee gender breakdown per act\n",
    "subjectsPerActAltered = []\n",
    "\n",
    "for episode in range(1, 624):\n",
    "    for act in range(0, 22):\n",
    "        episodeAct = episode + float(act) * 0.01\n",
    "        producers = contributors_gender[contributors_gender[\"episode-act\"]== episodeAct]\n",
    "        subjects = subjectsPerAct[subjectsPerAct[\"episode-act\"] == episodeAct]\n",
    "        for index, srow in subjects.iterrows():\n",
    "            for index2, prow in producers.iterrows():\n",
    "                if srow[\"name\"].lower() != prow[\"name\"].lower():\n",
    "                    subjectsPerActAltered.append([srow[\"name\"], episodeAct, srow[\"gender\"], srow[\"wordCount\"]])\n",
    "\n",
    "with open('../data/subjectGendersWithoutProducers.csv', 'wb') as f: \n",
    "    w = csv.writer(f)\n",
    "    w.writerow([\"name\", \"episode-act\",\"gender\", \"wordCount\"])\n",
    "    for list1 in subjectsPerActAltered:\n",
    "        w.writerow(list1)"
   ]
  },
  {
   "cell_type": "code",
   "execution_count": 10,
   "metadata": {
    "collapsed": true
   },
   "outputs": [],
   "source": [
    "subjectsPerAct2 = pd.read_csv(\"../data/subjectGendersWithoutProducers.csv\").groupby([\"gender\", \"episode-act\"])[\"wordCount\"].sum().reset_index()"
   ]
  },
  {
   "cell_type": "code",
   "execution_count": 11,
   "metadata": {
    "collapsed": true
   },
   "outputs": [],
   "source": [
    "maleSubjects = subjectsPerAct2[subjectsPerAct2[\"gender\"]==\"M\"]\n",
    "femaleSubjects = subjectsPerAct2[subjectsPerAct2[\"gender\"]==\"F\"]\n",
    "mergedSubjects = maleSubjects.merge(femaleSubjects, on=\"episode-act\", how=\"outer\").fillna(0)\n",
    "mergedSubjects[\"total\"] = mergedSubjects[\"wordCount_x\"]+mergedSubjects[\"wordCount_y\"]\n",
    "mergedSubjects[\"male%\"] = mergedSubjects[\"wordCount_x\"]/mergedSubjects[\"total\"]\n",
    "subjects = mergedSubjects[[\"episode-act\",\"male%\",\"wordCount_x\",\"total\"]]"
   ]
  },
  {
   "cell_type": "code",
   "execution_count": 12,
   "metadata": {
    "collapsed": true
   },
   "outputs": [],
   "source": [
    "# merge producer gender data and interviewee gender data into one spreadsheet\n",
    "producerSubject = producerGenderData.merge(subjects, on=\"episode-act\")[[\"episode-act\", \"male%_x\",\"total_x\",\"male%_y\",\"wordCount_x\",\"total_y\"]]\n",
    "producerSubject.columns = [\"episode-act\",\"percentMaleProducers\",\"totalProducerCount\",\"percentMaleSubjectDialogue\",\"maleSubjectWordCount\",\"totalSubjectWordCount\"]\n",
    "actInfo = pd.read_csv(\"../data/actInfo.csv\")\n",
    "mergedAct3 = producerSubject.merge(actInfo, on=\"episode-act\")\n",
    "mergedAct3 = mergedAct3[mergedAct3[\"act\"] != 0]\n",
    "mergedAct3[\"percentMaleProducers\"] = mergedAct3[\"percentMaleProducers\"]*100\n",
    "mergedAct3[\"percentMaleSubjectDialogue\"] = mergedAct3[\"percentMaleSubjectDialogue\"]*100"
   ]
  },
  {
   "cell_type": "code",
   "execution_count": 13,
   "metadata": {
    "collapsed": true
   },
   "outputs": [],
   "source": [
    "# export spreadsheet for use\n",
    "mergedAct3 = mergedAct3.sort_values(\"percentMaleSubjectDialogue\", ascending = False)\n",
    "mergedAct3.to_csv(\"../web/src/assets/data/act3.csv\", index=False)"
   ]
  },
  {
   "cell_type": "code",
   "execution_count": 14,
   "metadata": {
    "scrolled": true
   },
   "outputs": [
    {
     "data": {
      "text/plain": [
       "(68.686856100131877, 64.744854353538258)"
      ]
     },
     "execution_count": 14,
     "metadata": {},
     "output_type": "execute_result"
    }
   ],
   "source": [
    "#average amount of male interviewee dialogue for male reported acts and female reported acts\n",
    "male = mergedAct3[mergedAct3[\"percentMaleProducers\"] == 100]\n",
    "female = mergedAct3[(mergedAct3[\"percentMaleProducers\"] == 0)]\n",
    "male[\"percentMaleSubjectDialogue\"].mean(), female[\"percentMaleSubjectDialogue\"].mean()"
   ]
  },
  {
   "cell_type": "code",
   "execution_count": 15,
   "metadata": {
    "scrolled": true
   },
   "outputs": [
    {
     "data": {
      "text/plain": [
       "0.59472049689441"
      ]
     },
     "execution_count": 15,
     "metadata": {},
     "output_type": "execute_result"
    }
   ],
   "source": [
    "maleContributorCount = len(contributors_gender[contributors_gender[\"gender\"]==\"M\"][\"name\"].drop_duplicates())\n",
    "femaleContributorCount = len(contributors_gender[contributors_gender[\"gender\"]==\"F\"][\"name\"].drop_duplicates())\n",
    "#percent of contributors that are male\n",
    "maleContributorCount/float(maleContributorCount+femaleContributorCount)"
   ]
  },
  {
   "cell_type": "code",
   "execution_count": 24,
   "metadata": {},
   "outputs": [
    {
     "name": "stdout",
     "output_type": "stream",
     "text": [
      "1995 941 23 0.976141078838\n",
      "1996 192 189 0.503937007874\n",
      "1997 79 34 0.699115044248\n",
      "1998 119 32 0.788079470199\n",
      "1999 62 48 0.563636363636\n",
      "2000 33 78 0.297297297297\n",
      "2001 84 21 0.8\n",
      "2002 53 19 0.736111111111\n",
      "2003 22 10 0.6875\n",
      "2004 39 50 0.438202247191\n",
      "2005 25 20 0.555555555556\n",
      "2006 19 12 0.612903225806\n",
      "2007 25 9 0.735294117647\n",
      "2008 38 25 0.603174603175\n",
      "2009 26 64 0.288888888889\n",
      "2010 60 8 0.882352941176\n",
      "2011 25 12 0.675675675676\n",
      "2012 42 43 0.494117647059\n",
      "2013 6 14 0.3\n",
      "2014 17 43 0.283333333333\n",
      "2015 24 15 0.615384615385\n",
      "2016 16 13 0.551724137931\n",
      "2017 3 5 0.375\n"
     ]
    }
   ],
   "source": [
    "# % of contributors that are male per year\n",
    "episodes = pd.read_table(\"../data/episodes.tsv\")\n",
    "contributorsByYear = contributors_gender.merge(episodes, on=\"episode\")\n",
    "contributorsByYear = contributorsByYear[[\"gender\",\"name\",\"year\"]]\n",
    "\n",
    "for year in range(1995,2018):\n",
    "    subset = contributorsByYear[contributorsByYear[\"year\"]== year]\n",
    "    male = len(subset[subset[\"gender\"]==\"M\"])\n",
    "    female = len(subset[subset[\"gender\"]==\"F\"])\n",
    "    print year, male, female, male/float(female + male)\n"
   ]
  },
  {
   "cell_type": "code",
   "execution_count": 34,
   "metadata": {},
   "outputs": [
    {
     "name": "stdout",
     "output_type": "stream",
     "text": [
      "1995\t42\t20\t0.677419354839\n",
      "1996\t258\t189\t0.577181208054\n",
      "1997\t309\t174\t0.639751552795\n",
      "1998\t198\t157\t0.557746478873\n",
      "1999\t222\t163\t0.576623376623\n",
      "2000\t246\t114\t0.683333333333\n",
      "2001\t258\t164\t0.611374407583\n",
      "2002\t288\t145\t0.665127020785\n",
      "2003\t265\t131\t0.669191919192\n",
      "2004\t225\t144\t0.609756097561\n",
      "2005\t183\t97\t0.653571428571\n",
      "2006\t107\t39\t0.732876712329\n",
      "2007\t204\t122\t0.625766871166\n",
      "2008\t236\t120\t0.662921348315\n",
      "2009\t344\t150\t0.696356275304\n",
      "2010\t349\t137\t0.718106995885\n",
      "2011\t335\t223\t0.600358422939\n",
      "2012\t264\t123\t0.682170542636\n",
      "2013\t411\t209\t0.662903225806\n",
      "2014\t335\t184\t0.645472061657\n",
      "2015\t423\t245\t0.633233532934\n",
      "2016\t303\t165\t0.647435897436\n",
      "2017\t193\t104\t0.649831649832\n"
     ]
    }
   ],
   "source": [
    "# % of interviewees that are male per year\n",
    "subjectsPerAct3 = df[(df[\"role\"]==\"subject\")][[\"episode-act\",\"episode\",\"name\",\"gender\",\"wordCount\"]].groupby([\"name\",\"episode-act\",\"episode\",\"gender\"]).sum()[\"wordCount\"].reset_index()\n",
    "subjectsPerYear3 = subjectsPerAct3.merge(episodes, on=\"episode\")\n",
    "subjectsPerYear3 = subjectsPerYear3[[\"gender\",\"name\",\"year\", \"wordCount\"]]\n",
    "for year in range(1995,2018):\n",
    "    subset = subjectsPerYear3[subjectsPerYear3[\"year\"]== year]\n",
    "    male = len(subset[subset[\"gender\"]==\"M\"])\n",
    "    female = len(subset[subset[\"gender\"]==\"F\"])\n",
    "    print str(year) + \"\\t\" + str(male) + \"\\t\" + str(female) + \"\\t\" + str(male/float(female + male))"
   ]
  },
  {
   "cell_type": "code",
   "execution_count": 49,
   "metadata": {
    "scrolled": true
   },
   "outputs": [
    {
     "name": "stdout",
     "output_type": "stream",
     "text": [
      "1995 13913 3089 0.818315492295\n",
      "1996 62254 40030 0.608638692269\n",
      "1997 84930 35801 0.703464727369\n",
      "1998 74908 37208 0.668129437368\n",
      "1999 68950 35678 0.659001414535\n",
      "2000 56791 31029 0.64667501708\n",
      "2001 56428 31242 0.643640926201\n",
      "2002 63005 30129 0.67649837868\n",
      "2003 52016 29682 0.636686332591\n",
      "2004 66423 27046 0.710642031048\n",
      "2005 76318 35809 0.680638918369\n",
      "2006 36700 20103 0.646092635952\n",
      "2007 69806 22102 0.759520389955\n",
      "2008 62484 26791 0.699904788575\n",
      "2009 71818 24061 0.749048279602\n",
      "2010 68056 16774 0.80226335023\n",
      "2011 66649 38175 0.635818133252\n",
      "2012 66910 21774 0.75447656849\n",
      "2013 74120 34574 0.681914365098\n",
      "2014 67304 34009 0.66431751108\n",
      "2015 83212 45389 0.647055621651\n",
      "2016 73006 41015 0.640285561432\n",
      "2017 48036 21227 0.693530456376\n"
     ]
    }
   ],
   "source": [
    "# % of subject dialogue that is male by year\n",
    "df2 = df.merge(episodes, on=\"episode\")\n",
    "for year in range(1995, 2018):\n",
    "    subjectsPerAct = df2[(df2[\"role\"]==\"subject\") & (df2[\"year\"]==year)][[\"episode-act\",\"name\",\"gender\",\"wordCount\"]].groupby([\"name\",\"episode-act\",\"gender\"]).sum()[\"wordCount\"].reset_index()\n",
    "    maleCount = subjectsPerAct[subjectsPerAct[\"gender\"]==\"M\"][\"wordCount\"].sum()\n",
    "    femaleCount = subjectsPerAct[subjectsPerAct[\"gender\"]==\"F\"][\"wordCount\"].sum()\n",
    "    print year, maleCount, femaleCount, maleCount/float(femaleCount + maleCount)"
   ]
  },
  {
   "cell_type": "code",
   "execution_count": 66,
   "metadata": {},
   "outputs": [
    {
     "name": "stdout",
     "output_type": "stream",
     "text": [
      "1995 24771.0 8366.0 0.747532969189\n",
      "1996 134982.0 40649.0 0.768554526251\n",
      "1997 147067.0 48235.0 0.753023522545\n",
      "1998 108558.0 51793.0 0.677002326147\n",
      "1999 99406.0 40989.0 0.708045158303\n",
      "2000 90528.0 42784.0 0.679068650984\n",
      "2001 107117.0 40100.0 0.727612979479\n",
      "2002 82744.0 50967.0 0.618827172035\n",
      "2003 95330.0 40180.0 0.703490517305\n",
      "2004 85916.0 39107.0 0.687201554914\n",
      "2005 79854.0 39560.0 0.668715560989\n",
      "2006 76434.0 19676.0 0.795276245968\n",
      "2007 86443.0 32182.0 0.728708113804\n",
      "2008 111262.0 31440.0 0.779680733276\n",
      "2009 109232.0 41890.0 0.722806738926\n",
      "2010 102701.0 37144.0 0.734391647896\n",
      "2011 99156.0 58613.0 0.628488486331\n",
      "2012 89383.0 33619.0 0.726679240988\n",
      "2013 79518.0 58351.0 0.576764900014\n",
      "2014 75391.0 52668.0 0.588720823995\n",
      "2015 83178.0 67557.0 0.551816101105\n",
      "2016 88665.0 74172.0 0.544501556771\n",
      "2017 62563.0 31388.0 0.665910953582\n"
     ]
    }
   ],
   "source": [
    "# % of contributor dialogue that is male\n",
    "contributors1 = contributors_dataset.merge(df, on=[\"name\",\"episode-act\"], how=\"left\").merge(episodes, on=\"episode\")\n",
    "contributors1\n",
    "for year in range(1995, 2018):\n",
    "    subjectsPerAct = contributors1[(contributors1[\"year\"]==year)][[\"episode-act\",\"name\",\"gender\",\"wordCount\"]].groupby([\"name\",\"episode-act\",\"gender\"]).sum()[\"wordCount\"].reset_index()\n",
    "    maleCount = subjectsPerAct[subjectsPerAct[\"gender\"]==\"M\"][\"wordCount\"].sum()\n",
    "    femaleCount = subjectsPerAct[subjectsPerAct[\"gender\"]==\"F\"][\"wordCount\"].sum()\n",
    "    print year, maleCount, femaleCount, maleCount/float(femaleCount + maleCount)"
   ]
  },
  {
   "cell_type": "code",
   "execution_count": 63,
   "metadata": {},
   "outputs": [
    {
     "name": "stdout",
     "output_type": "stream",
     "text": [
      "1995 29267 11455 0.718702421296\n",
      "1996 156999 90264 0.634947404181\n",
      "1997 190779 86941 0.686947285035\n",
      "1998 134210 82430 0.619507016248\n",
      "1999 131335 71962 0.646025273369\n",
      "2000 113052 72512 0.609234549805\n",
      "2001 131365 72431 0.6445906691\n",
      "2002 107903 78710 0.578218023396\n",
      "2003 141566 68848 0.672797437433\n",
      "2004 113796 60318 0.653571797788\n",
      "2005 128258 74281 0.633250880077\n",
      "2006 88587 36659 0.707304025677\n",
      "2007 135044 52392 0.720480590708\n",
      "2008 130083 61623 0.678554661826\n",
      "2009 124523 61780 0.668389666296\n",
      "2010 146693 54004 0.730917751636\n",
      "2011 131614 100597 0.566786241823\n",
      "2012 144854 63210 0.696199246386\n",
      "2013 145169 103971 0.582680420647\n",
      "2014 138260 94453 0.594122373911\n",
      "2015 149086 114723 0.56512855892\n",
      "2016 127790 111172 0.534771218855\n",
      "2017 88316 47932 0.648200340555\n"
     ]
    }
   ],
   "source": [
    "# % of all dialogue that is male year by year\n",
    "for year in range(1995, 2018):\n",
    "    subjectsPerAct = df2[(df2[\"year\"]==year) & (df2[\"name\"]!=\"ira glass\")][[\"episode-act\",\"name\",\"gender\",\"wordCount\"]].groupby([\"name\",\"episode-act\",\"gender\"]).sum()[\"wordCount\"].reset_index()\n",
    "    maleCount = subjectsPerAct[subjectsPerAct[\"gender\"]==\"M\"][\"wordCount\"].sum()\n",
    "    femaleCount = subjectsPerAct[subjectsPerAct[\"gender\"]==\"F\"][\"wordCount\"].sum()\n",
    "    print year, maleCount, femaleCount, maleCount/float(femaleCount + maleCount)"
   ]
  },
  {
   "cell_type": "code",
   "execution_count": 65,
   "metadata": {},
   "outputs": [
    {
     "name": "stdout",
     "output_type": "stream",
     "text": [
      "1995\t91\t26\t0.777777777778\n",
      "1996\t504\t231\t0.685714285714\n",
      "1997\t564\t208\t0.730569948187\n",
      "1998\t378\t179\t0.678635547576\n",
      "1999\t401\t194\t0.673949579832\n",
      "2000\t391\t147\t0.726765799257\n",
      "2001\t438\t192\t0.695238095238\n",
      "2002\t428\t170\t0.715719063545\n",
      "2003\t450\t164\t0.732899022801\n",
      "2004\t357\t178\t0.667289719626\n",
      "2005\t323\t121\t0.727477477477\n",
      "2006\t216\t52\t0.805970149254\n",
      "2007\t347\t147\t0.702429149798\n",
      "2008\t383\t147\t0.722641509434\n",
      "2009\t497\t186\t0.727672035139\n",
      "2010\t528\t167\t0.759712230216\n",
      "2011\t513\t275\t0.651015228426\n",
      "2012\t438\t160\t0.732441471572\n",
      "2013\t596\t278\t0.681922196796\n",
      "2014\t501\t230\t0.6853625171\n",
      "2015\t590\t303\t0.660694288914\n",
      "2016\t455\t217\t0.677083333333\n",
      "2017\t277\t119\t0.699494949495\n"
     ]
    }
   ],
   "source": [
    "# % of all speakers that are male year by year\n",
    "allspeakers = df[[\"episode-act\",\"episode\",\"name\",\"gender\",\"wordCount\"]].groupby([\"name\",\"episode-act\",\"episode\",\"gender\"]).sum()[\"wordCount\"].reset_index()\n",
    "allspeakers1 = allspeakers.merge(episodes, on=\"episode\")\n",
    "allspeakers1 = allspeakers1[[\"gender\",\"name\",\"year\", \"wordCount\"]]\n",
    "for year in range(1995,2018):\n",
    "    subset = allspeakers1[allspeakers1[\"year\"]== year]\n",
    "    male = len(subset[subset[\"gender\"]==\"M\"])\n",
    "    female = len(subset[subset[\"gender\"]==\"F\"])\n",
    "    print str(year) + \"\\t\" + str(male) + \"\\t\" + str(female) + \"\\t\" + str(male/float(female + male))"
   ]
  },
  {
   "cell_type": "code",
   "execution_count": null,
   "metadata": {
    "collapsed": true
   },
   "outputs": [],
   "source": []
  }
 ],
 "metadata": {
  "kernelspec": {
   "display_name": "Python 2",
   "language": "python",
   "name": "python2"
  },
  "language_info": {
   "codemirror_mode": {
    "name": "ipython",
    "version": 2
   },
   "file_extension": ".py",
   "mimetype": "text/x-python",
   "name": "python",
   "nbconvert_exporter": "python",
   "pygments_lexer": "ipython2",
   "version": "2.7.13"
  }
 },
 "nbformat": 4,
 "nbformat_minor": 2
}
