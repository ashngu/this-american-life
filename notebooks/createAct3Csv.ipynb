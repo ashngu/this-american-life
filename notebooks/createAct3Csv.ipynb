{
 "cells": [
  {
   "cell_type": "code",
   "execution_count": 2,
   "metadata": {
    "collapsed": true
   },
   "outputs": [],
   "source": [
    "import pandas as pd\n",
    "import json\n",
    "import collections\n",
    "import csv"
   ]
  },
  {
   "cell_type": "code",
   "execution_count": 3,
   "metadata": {
    "collapsed": true
   },
   "outputs": [],
   "source": [
    "# get dialogue of each act\n",
    "df = pd.read_csv(\"../data/dialoguebyact.csv\")\n",
    "df = df[df[\"act\"] != 0.21] #ignore credits\n",
    "\n",
    "# contributors of each act\n",
    "contributors_dataset = pd.read_table(\"../data/contributorForEachActFinal.tsv\")\n",
    "\n",
    "# create gender file with contributors that never speak\n",
    "gender_dataset = pd.read_csv(\"../data/gender.csv\")\n",
    "contributorWithoutDialogueGender = pd.read_csv(\"../data/contributorWithoutDialogueGender.csv\")\n",
    "gender_dataset2 = pd.concat([gender_dataset, contributorWithoutDialogueGender])\n",
    "\n",
    "contributorsUppercase = contributors_dataset\n",
    "# lowercase all the names so they can match\n",
    "gender_dataset2[\"name\"] = gender_dataset2[\"name\"].str.lower()\n",
    "contributors_dataset[\"name\"] = contributors_dataset[\"name\"].str.lower()\n",
    "\n",
    "# merge contributor listing with gender listing\n",
    "contributors_gender = contributors_dataset.merge(gender_dataset2, on=\"name\")"
   ]
  },
  {
   "cell_type": "code",
   "execution_count": 4,
   "metadata": {
    "collapsed": true
   },
   "outputs": [],
   "source": [
    "df[\"name\"] = df[\"name\"].str.lower()\n",
    "subjectsPerAct = df[(df[\"role\"]==\"subject\")][[\"episode-act\",\"name\",\"gender\",\"wordCount\"]].groupby([\"name\",\"episode-act\",\"gender\"]).sum()[\"wordCount\"].reset_index()"
   ]
  },
  {
   "cell_type": "code",
   "execution_count": 5,
   "metadata": {
    "collapsed": true
   },
   "outputs": [],
   "source": [
    "contributors_gender.to_csv(\"../data/producersOfEachAct.csv\", index=False)\n",
    "subjectsPerAct.to_csv(\"../data/subjectsOfEachAct.csv\", index=False)"
   ]
  },
  {
   "cell_type": "code",
   "execution_count": 6,
   "metadata": {
    "collapsed": true
   },
   "outputs": [],
   "source": [
    "# getting reporter gender breakdown per act\n",
    "producerGenders = []\n",
    "\n",
    "for episode in range(1, 624):\n",
    "    for act in range(0, 22):\n",
    "        episodeAct = episode + float(act) * 0.01\n",
    "        producers = contributors_gender[contributors_gender[\"episode-act\"]== episodeAct]\n",
    "        maleCount = 0\n",
    "        femaleCount = 0\n",
    "        for index, row in producers.iterrows():\n",
    "#             if (row[\"name\"] != \"ira glass\"):\n",
    "            if row[\"gender\"] == \"M\":\n",
    "                maleCount += 1\n",
    "            if row[\"gender\"] == \"F\":\n",
    "                femaleCount += 1\n",
    "        total = float(femaleCount + maleCount)\n",
    "        malepercent = -1\n",
    "        femalepercent = -1\n",
    "        if total != 0:\n",
    "            malepercent = maleCount/total\n",
    "            femalepercent = femaleCount/total\n",
    "        producerGenders.append([episodeAct, malepercent, femalepercent, maleCount, femaleCount, total])\n",
    "\n",
    "with open('../data/producersGender.csv', 'wb') as f: \n",
    "    w = csv.writer(f)\n",
    "    w.writerow([\"episode-act\",\"male%\",\"female%\",\"male\",\"female\",\"total\"])\n",
    "    for list1 in producerGenders:\n",
    "        w.writerow(list1)"
   ]
  },
  {
   "cell_type": "code",
   "execution_count": 7,
   "metadata": {
    "collapsed": true
   },
   "outputs": [],
   "source": [
    "producerGenderData = pd.read_csv(\"../data/producersGender.csv\")\n",
    "producerGenderData = producerGenderData.drop_duplicates()"
   ]
  },
  {
   "cell_type": "code",
   "execution_count": 8,
   "metadata": {},
   "outputs": [
    {
     "data": {
      "text/plain": [
       "(2467, 6)"
      ]
     },
     "execution_count": 8,
     "metadata": {},
     "output_type": "execute_result"
    }
   ],
   "source": [
    "# exclude prologues, credits, and acts where no reporter is listed\n",
    "producerGenderData[(producerGenderData[\"male%\"] != -1)  & (producerGenderData[\"episode-act\"] != 0.00) & (producerGenderData[\"episode-act\"] != 0.21)].shape"
   ]
  },
  {
   "cell_type": "code",
   "execution_count": 9,
   "metadata": {
    "collapsed": true
   },
   "outputs": [],
   "source": [
    "# getting subject/interviewee gender breakdown per act\n",
    "subjectsPerActAltered = []\n",
    "\n",
    "for episode in range(1, 624):\n",
    "    for act in range(0, 22):\n",
    "        episodeAct = episode + float(act) * 0.01\n",
    "        producers = contributors_gender[contributors_gender[\"episode-act\"]== episodeAct]\n",
    "        subjects = subjectsPerAct[subjectsPerAct[\"episode-act\"] == episodeAct]\n",
    "        for index, srow in subjects.iterrows():\n",
    "            for index2, prow in producers.iterrows():\n",
    "                if srow[\"name\"].lower() != prow[\"name\"].lower():\n",
    "                    subjectsPerActAltered.append([srow[\"name\"], episodeAct, srow[\"gender\"], srow[\"wordCount\"]])\n",
    "\n",
    "with open('../data/subjectGendersWithoutProducers.csv', 'wb') as f: \n",
    "    w = csv.writer(f)\n",
    "    w.writerow([\"name\", \"episode-act\",\"gender\", \"wordCount\"])\n",
    "    for list1 in subjectsPerActAltered:\n",
    "        w.writerow(list1)"
   ]
  },
  {
   "cell_type": "code",
   "execution_count": 10,
   "metadata": {
    "collapsed": true
   },
   "outputs": [],
   "source": [
    "subjectsPerAct2 = pd.read_csv(\"../data/subjectGendersWithoutProducers.csv\").groupby([\"gender\", \"episode-act\"])[\"wordCount\"].sum().reset_index()"
   ]
  },
  {
   "cell_type": "code",
   "execution_count": 11,
   "metadata": {
    "collapsed": true
   },
   "outputs": [],
   "source": [
    "maleSubjects = subjectsPerAct2[subjectsPerAct2[\"gender\"]==\"M\"]\n",
    "femaleSubjects = subjectsPerAct2[subjectsPerAct2[\"gender\"]==\"F\"]\n",
    "mergedSubjects = maleSubjects.merge(femaleSubjects, on=\"episode-act\", how=\"outer\").fillna(0)\n",
    "mergedSubjects[\"total\"] = mergedSubjects[\"wordCount_x\"]+mergedSubjects[\"wordCount_y\"]\n",
    "mergedSubjects[\"male%\"] = mergedSubjects[\"wordCount_x\"]/mergedSubjects[\"total\"]\n",
    "subjects = mergedSubjects[[\"episode-act\",\"male%\",\"wordCount_x\",\"total\"]]"
   ]
  },
  {
   "cell_type": "code",
   "execution_count": 12,
   "metadata": {
    "collapsed": true
   },
   "outputs": [],
   "source": [
    "# merge producer gender data and interviewee gender data into one spreadsheet\n",
    "producerSubject = producerGenderData.merge(subjects, on=\"episode-act\")[[\"episode-act\", \"male%_x\",\"total_x\",\"male%_y\",\"wordCount_x\",\"total_y\"]]\n",
    "producerSubject.columns = [\"episode-act\",\"percentMaleProducers\",\"totalProducerCount\",\"percentMaleSubjectDialogue\",\"maleSubjectWordCount\",\"totalSubjectWordCount\"]\n",
    "actInfo = pd.read_csv(\"../data/actInfo.csv\")\n",
    "mergedAct3 = producerSubject.merge(actInfo, on=\"episode-act\")\n",
    "mergedAct3 = mergedAct3[mergedAct3[\"act\"] != 0]\n",
    "mergedAct3[\"percentMaleProducers\"] = mergedAct3[\"percentMaleProducers\"]*100\n",
    "mergedAct3[\"percentMaleSubjectDialogue\"] = mergedAct3[\"percentMaleSubjectDialogue\"]*100"
   ]
  },
  {
   "cell_type": "code",
   "execution_count": 13,
   "metadata": {
    "collapsed": true
   },
   "outputs": [],
   "source": [
    "# export spreadsheet for use\n",
    "mergedAct3 = mergedAct3.sort_values(\"percentMaleSubjectDialogue\", ascending = False)\n",
    "mergedAct3.to_csv(\"../web/src/assets/data/act3.csv\", index=False)"
   ]
  },
  {
   "cell_type": "code",
   "execution_count": 14,
   "metadata": {
    "scrolled": true
   },
   "outputs": [
    {
     "data": {
      "text/plain": [
       "(68.686856100131877, 64.744854353538258)"
      ]
     },
     "execution_count": 14,
     "metadata": {},
     "output_type": "execute_result"
    }
   ],
   "source": [
    "#average amount of male interviewee dialogue for male reported acts and female reported acts\n",
    "male = mergedAct3[mergedAct3[\"percentMaleProducers\"] == 100]\n",
    "female = mergedAct3[(mergedAct3[\"percentMaleProducers\"] == 0)]\n",
    "male[\"percentMaleSubjectDialogue\"].mean(), female[\"percentMaleSubjectDialogue\"].mean()"
   ]
  },
  {
   "cell_type": "code",
   "execution_count": 15,
   "metadata": {
    "scrolled": true
   },
   "outputs": [
    {
     "data": {
      "text/plain": [
       "0.59472049689441"
      ]
     },
     "execution_count": 15,
     "metadata": {},
     "output_type": "execute_result"
    }
   ],
   "source": [
    "maleContributorCount = len(contributors_gender[contributors_gender[\"gender\"]==\"M\"][\"name\"].drop_duplicates())\n",
    "femaleContributorCount = len(contributors_gender[contributors_gender[\"gender\"]==\"F\"][\"name\"].drop_duplicates())\n",
    "#percent of contributors that are male\n",
    "maleContributorCount/float(maleContributorCount+femaleContributorCount)"
   ]
  }
 ],
 "metadata": {
  "kernelspec": {
   "display_name": "Python 2",
   "language": "python",
   "name": "python2"
  },
  "language_info": {
   "codemirror_mode": {
    "name": "ipython",
    "version": 2
   },
   "file_extension": ".py",
   "mimetype": "text/x-python",
   "name": "python",
   "nbconvert_exporter": "python",
   "pygments_lexer": "ipython2",
   "version": "2.7.13"
  }
 },
 "nbformat": 4,
 "nbformat_minor": 2
}
