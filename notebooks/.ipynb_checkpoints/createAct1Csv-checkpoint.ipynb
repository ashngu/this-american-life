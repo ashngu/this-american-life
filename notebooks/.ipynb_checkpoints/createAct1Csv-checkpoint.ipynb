{
 "cells": [
  {
   "cell_type": "code",
   "execution_count": 1,
   "metadata": {
    "collapsed": true
   },
   "outputs": [],
   "source": [
    "import pandas as pd\n",
    "import json\n",
    "import collections\n",
    "import csv\n",
    "import math\n",
    "import numpy as np\n",
    "import unidecode"
   ]
  },
  {
   "cell_type": "code",
   "execution_count": 2,
   "metadata": {
    "collapsed": true
   },
   "outputs": [],
   "source": [
    "def replaceActIds(newdataset):\n",
    "    newdataset[\"act\"] = newdataset[\"act\"].replace(to_replace=\"prologue\", value=0)\n",
    "    newdataset[\"act\"] = newdataset[\"act\"].replace(to_replace=\"act1\", value=0.01)\n",
    "    newdataset[\"act\"] = newdataset[\"act\"].replace(to_replace=\"act2\", value=0.02)\n",
    "    newdataset[\"act\"] = newdataset[\"act\"].replace(to_replace=\"act3\", value=0.03)\n",
    "    newdataset[\"act\"] = newdataset[\"act\"].replace(to_replace=\"act4\", value=0.04)\n",
    "    newdataset[\"act\"] = newdataset[\"act\"].replace(to_replace=\"act5\", value=0.05)\n",
    "    newdataset[\"act\"] = newdataset[\"act\"].replace(to_replace=\"act6\", value=0.06)\n",
    "    newdataset[\"act\"] = newdataset[\"act\"].replace(to_replace=\"act7\", value=0.07)\n",
    "    newdataset[\"act\"] = newdataset[\"act\"].replace(to_replace=\"act8\", value=0.08)\n",
    "    newdataset[\"act\"] = newdataset[\"act\"].replace(to_replace=\"act9\", value=0.09)\n",
    "    newdataset[\"act\"] = newdataset[\"act\"].replace(to_replace=\"act10\", value=0.10)\n",
    "    newdataset[\"act\"] = newdataset[\"act\"].replace(to_replace=\"act11\", value=0.11)\n",
    "    newdataset[\"act\"] = newdataset[\"act\"].replace(to_replace=\"act12\", value=0.12)\n",
    "    newdataset[\"act\"] = newdataset[\"act\"].replace(to_replace=\"act13\", value=0.13)\n",
    "    newdataset[\"act\"] = newdataset[\"act\"].replace(to_replace=\"act14\", value=0.14)\n",
    "    newdataset[\"act\"] = newdataset[\"act\"].replace(to_replace=\"act15\", value=0.15)\n",
    "    newdataset[\"act\"] = newdataset[\"act\"].replace(to_replace=\"act16\", value=0.16)\n",
    "    newdataset[\"act\"] = newdataset[\"act\"].replace(to_replace=\"act17\", value=0.17)\n",
    "    newdataset[\"act\"] = newdataset[\"act\"].replace(to_replace=\"act18\", value=0.18)\n",
    "    newdataset[\"act\"] = newdataset[\"act\"].replace(to_replace=\"act19\", value=0.19)\n",
    "    newdataset[\"act\"] = newdataset[\"act\"].replace(to_replace=\"act20\", value=0.20)\n",
    "    newdataset[\"act\"] = newdataset[\"act\"].replace(to_replace=\"credits\", value=0.21)\n",
    "    return newdataset"
   ]
  },
  {
   "cell_type": "code",
   "execution_count": 3,
   "metadata": {
    "collapsed": true
   },
   "outputs": [],
   "source": [
    "def convertData(dataframe):\n",
    "    dataframe = dataframe.reset_index(col_level=1)\n",
    "    df_m = dataframe[dataframe['gender']==\"M\"]\n",
    "    df_f = dataframe[dataframe['gender']==\"F\"]\n",
    "    df_all=pd.merge(df_m, df_f, on=\"episode\", how=\"outer\")\n",
    "    df_all = df_all[[\"episode\",\"wordCount_x\", \"wordCount_y\"]]\n",
    "    df_all[\"wordCount_y\"] = df_all[\"wordCount_y\"].fillna(0)\n",
    "    df_all[\"wordCount_x\"] = df_all[\"wordCount_x\"].fillna(0)\n",
    "    df_all[\"total\"] = df_all[\"wordCount_x\"] + df_all[\"wordCount_y\"]\n",
    "    df_all[\"male%\"] = df_all[\"wordCount_x\"] / df_all[\"total\"]\n",
    "    df_all[\"female%\"] = df_all[\"wordCount_y\"] / df_all[\"total\"]\n",
    "    df_all.columns=[\"episode\", \"male\",\"female\",\"total\",\"male%\",\"female%\"]\n",
    "    return df_all"
   ]
  },
  {
   "cell_type": "code",
   "execution_count": 23,
   "metadata": {
    "collapsed": true
   },
   "outputs": [],
   "source": [
    "gender_dataset = pd.read_csv(\"../data/gender.csv\")\n",
    "acts_dataset = pd.read_table(\"../data/acts.tsv\")\n",
    "episodes_dataset = pd.read_table(\"../data/episodes.tsv\")\n",
    "dialogue_dataset = pd.read_table(\"../data/dialogue.tsv\")\n",
    "dialogue_dataset = replaceActIds(dialogue_dataset)\n",
    "dialogue_dataset[\"episode-act\"]= dialogue_dataset[\"episode\"].apply(float) + dialogue_dataset[\"act\"].apply(float) \n",
    "acts_dataset = replaceActIds(acts_dataset)\n",
    "acts_dataset[\"episode-act\"]= acts_dataset[\"episode\"].apply(float) + acts_dataset[\"act\"].apply(float) \n",
    "acts_dataset.to_csv(\"../data/actInfo.csv\", index=False)"
   ]
  },
  {
   "cell_type": "code",
   "execution_count": 24,
   "metadata": {
    "collapsed": true
   },
   "outputs": [],
   "source": [
    "dialogue_dataset = dialogue_dataset[~pd.isnull(dialogue_dataset[\"dialogue\"])]\n",
    "dialogue_dataset[\"wordCount\"] = dialogue_dataset[\"dialogue\"].map(lambda x: len(x.split()))\n",
    "dialogue_dataset.to_csv(\"../data/dialoguebyact.csv\", index=False)"
   ]
  },
  {
   "cell_type": "code",
   "execution_count": 25,
   "metadata": {
    "collapsed": true
   },
   "outputs": [],
   "source": [
    "export_dataset = dialogue_dataset.groupby([\"name\",\"episode\",\"act\",\"gender\",\"role\"]).sum()[\"wordCount\"].reset_index()\n",
    "export_dataset.sort_values([\"episode\",\"act\",\"name\"])\n"
   ]
  },
  {
   "cell_type": "code",
   "execution_count": 26,
   "metadata": {
    "collapsed": true
   },
   "outputs": [],
   "source": [
    "# get % of male dialogue per episode without Ira\n",
    "episodeData = dialogue_dataset[(dialogue_dataset[\"name\"]!=\"Ira Glass\") & (dialogue_dataset[\"name\"]!=\"Announcer\")].groupby([\"episode\",\"gender\"]).sum()[\"wordCount\"].reset_index()\n",
    "df_all = convertData(episodeData)"
   ]
  },
  {
   "cell_type": "code",
   "execution_count": 27,
   "metadata": {
    "collapsed": true
   },
   "outputs": [],
   "source": [
    "#merge to create act 1 csv\n",
    "mergedAct1 = df_all.merge(episodes_dataset, on=\"episode\")\n",
    "mergedAct1[\"male%\"] = mergedAct1[\"male%\"] * 100\n",
    "mergedAct1.columns = [\"episode\",\"male\",\"female\",\"total\",\"malePercent\",\"femalePercent\",\"month\",\"day\",\"year\",\"title\",\"description\",\"imageurl\",\"url\"]\n",
    "mergedAct1 = mergedAct1[[\"episode\",\"malePercent\",\"year\",\"title\",\"description\",\"url\"]]\n",
    "mergedAct1.to_csv(\"../web/src/assets/data/act1.csv\", index=False)"
   ]
  },
  {
   "cell_type": "code",
   "execution_count": 9,
   "metadata": {},
   "outputs": [
    {
     "data": {
      "text/plain": [
       "0.7041800643086816"
      ]
     },
     "execution_count": 9,
     "metadata": {},
     "output_type": "execute_result"
    }
   ],
   "source": [
    "# percentage of episodes that have more than 50% male dialogue\n",
    "len(mergedAct1[mergedAct1[\"malePercent\"] > 50])/float(len(mergedAct1))"
   ]
  },
  {
   "cell_type": "code",
   "execution_count": 10,
   "metadata": {
    "scrolled": true
   },
   "outputs": [
    {
     "data": {
      "text/plain": [
       "0.6331263910038655"
      ]
     },
     "execution_count": 10,
     "metadata": {},
     "output_type": "execute_result"
    }
   ],
   "source": [
    "menCount = len(gender_dataset[gender_dataset[\"gender\"]==\"M\"])\n",
    "womenCount = len(gender_dataset[gender_dataset[\"gender\"]==\"F\"])\n",
    "# percent of speakers that are male\n",
    "menCount/float(menCount + womenCount)"
   ]
  },
  {
   "cell_type": "code",
   "execution_count": 11,
   "metadata": {},
   "outputs": [
    {
     "data": {
      "text/plain": [
       "0.63622855280434232"
      ]
     },
     "execution_count": 11,
     "metadata": {},
     "output_type": "execute_result"
    }
   ],
   "source": [
    "wordCounts = dialogue_dataset[dialogue_dataset[\"name\"] != \"Ira Glass\"].groupby([\"gender\"]).sum()[\"wordCount\"].reset_index()\n",
    "femaleWordCount = wordCounts.iloc[0][\"wordCount\"]\n",
    "maleWordCount = wordCounts.iloc[2][\"wordCount\"]\n",
    "# percent of words spoken that are male, excluding Ira Glass\n",
    "maleWordCount/float(maleWordCount + femaleWordCount)"
   ]
  },
  {
   "cell_type": "code",
   "execution_count": 12,
   "metadata": {},
   "outputs": [
    {
     "data": {
      "text/plain": [
       "(10.388059701492537, 9.0, 6.1708126036484243, 5.0)"
      ]
     },
     "execution_count": 12,
     "metadata": {},
     "output_type": "execute_result"
    }
   ],
   "source": [
    "# average number of men and women in an episode withOUT Ira Glass and Announcer\n",
    "subset = dialogue_dataset[[\"episode\",\"name\",\"gender\"]].drop_duplicates()\n",
    "subset = subset[(subset[\"name\"] != \"Ira Glass\") & (subset[\"name\"] != \"Announcer\")]\n",
    "men = subset[subset[\"gender\"]==\"M\"].groupby(\"episode\").count().reset_index()[[\"episode\", \"name\"]]\n",
    "women = subset[subset[\"gender\"]==\"F\"].groupby(\"episode\").count().reset_index()[[\"episode\", \"name\"]]\n",
    "menwomencount = men.merge(women, on=\"episode\")\n",
    "menwomencount.columns = [\"episode\", \"numMen\", \"numWomen\"]\n",
    "menwomencount[\"numMen\"].mean(), menwomencount[\"numMen\"].median(), menwomencount[\"numWomen\"].mean(), menwomencount[\"numWomen\"].median()"
   ]
  },
  {
   "cell_type": "code",
   "execution_count": 13,
   "metadata": {},
   "outputs": [
    {
     "data": {
      "text/plain": [
       "(455.02030063536341, 128.0, 451.6072004298764, 117.0)"
      ]
     },
     "execution_count": 13,
     "metadata": {},
     "output_type": "execute_result"
    }
   ],
   "source": [
    "# In an avg episode, how many words does a woman speak vs a man.\n",
    "dialogue_dataset2 = dialogue_dataset[(dialogue_dataset[\"name\"]!=\"Ira Glass\") & (dialogue_dataset[\"name\"]!=\"Announcer\")]\n",
    "men = dialogue_dataset2[(dialogue_dataset2[\"gender\"]==\"M\")].groupby([\"name\",\"episode\"]).sum()[\"wordCount\"].reset_index()\n",
    "women = dialogue_dataset2[(dialogue_dataset2[\"gender\"]==\"F\")].groupby([\"name\",\"episode\"]).sum()[\"wordCount\"].reset_index()\n",
    "men[\"wordCount\"].mean(), men[\"wordCount\"].median(), women[\"wordCount\"].mean(), women[\"wordCount\"].median()"
   ]
  },
  {
   "cell_type": "code",
   "execution_count": 14,
   "metadata": {},
   "outputs": [
    {
     "data": {
      "text/plain": [
       "(1.5500840739851069, 1.0, 1.6534873389604621, 1.0)"
      ]
     },
     "execution_count": 14,
     "metadata": {},
     "output_type": "execute_result"
    }
   ],
   "source": [
    "# How many appearances in episodes does a man vs woman make?\n",
    "men = dialogue_dataset2[(dialogue_dataset2[\"gender\"]==\"M\")].groupby([\"name\", \"episode\"]).count()[\"wordCount\"].reset_index().groupby([\"name\"]).count()[\"episode\"].reset_index()\n",
    "women = dialogue_dataset2[(dialogue_dataset2[\"gender\"]==\"F\")].groupby([\"name\", \"episode\"]).count()[\"wordCount\"].reset_index().groupby([\"name\"]).count()[\"episode\"].reset_index()\n",
    "men[\"episode\"].mean(), men[\"episode\"].median(), women[\"episode\"].mean(), women[\"episode\"].median()"
   ]
  },
  {
   "cell_type": "code",
   "execution_count": 41,
   "metadata": {},
   "outputs": [
    {
     "data": {
      "text/plain": [
       "0.6450389503895039"
      ]
     },
     "execution_count": 41,
     "metadata": {},
     "output_type": "execute_result"
    }
   ],
   "source": [
    "# percentage of subjects that are male\n",
    "subjects = dialogue_dataset[dialogue_dataset[\"role\"]==\"subject\"][[\"name\",\"gender\",\"episode-act\"]].drop_duplicates()\n",
    "maleSubjectCount = len(subjects[subjects[\"gender\"]==\"M\"])\n",
    "femaleSubjectCount = len(subjects[subjects[\"gender\"]==\"F\"])\n",
    "maleSubjectCount/float(maleSubjectCount + femaleSubjectCount)"
   ]
  },
  {
   "cell_type": "code",
   "execution_count": 51,
   "metadata": {},
   "outputs": [
    {
     "name": "stdout",
     "output_type": "stream",
     "text": [
      "5405 3132 0.633126391004\n"
     ]
    }
   ],
   "source": [
    "# percentage of speakers that are male\n",
    "speakers = gender_dataset[[\"name\",\"gender\",\"episode\"]].drop_duplicates()\n",
    "maleSpeakerCount = len(speakers[speakers[\"gender\"]==\"M\"])\n",
    "femaleSpeakerCount = len(speakers[speakers[\"gender\"]==\"F\"])\n",
    "print maleSpeakerCount, femaleSpeakerCount, maleSpeakerCount/float(maleSpeakerCount + femaleSpeakerCount)\n"
   ]
  },
  {
   "cell_type": "code",
   "execution_count": null,
   "metadata": {
    "collapsed": true
   },
   "outputs": [],
   "source": []
  }
 ],
 "metadata": {
  "kernelspec": {
   "display_name": "Python 2",
   "language": "python",
   "name": "python2"
  },
  "language_info": {
   "codemirror_mode": {
    "name": "ipython",
    "version": 2
   },
   "file_extension": ".py",
   "mimetype": "text/x-python",
   "name": "python",
   "nbconvert_exporter": "python",
   "pygments_lexer": "ipython2",
   "version": "2.7.13"
  }
 },
 "nbformat": 4,
 "nbformat_minor": 2
}
