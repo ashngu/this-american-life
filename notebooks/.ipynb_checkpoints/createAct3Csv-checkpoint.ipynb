{
 "cells": [
  {
   "cell_type": "code",
   "execution_count": 2,
   "metadata": {
    "collapsed": true
   },
   "outputs": [],
   "source": [
    "import pandas as pd\n",
    "import json\n",
    "import collections\n",
    "import csv"
   ]
  },
  {
   "cell_type": "code",
   "execution_count": 9,
   "metadata": {},
   "outputs": [],
   "source": [
    "# get dialogue of each act\n",
    "df = pd.read_csv(\"../data/dialoguebyact.csv\")\n",
    "df = df[df[\"act\"] != 0.21] #ignore credits\n",
    "\n",
    "# contributors of each act\n",
    "contributors_dataset = pd.read_csv(\"../data/contributorForEachActFinal.csv\")\n",
    "\n",
    "# create gender file with contributors that never speak\n",
    "gender_dataset = pd.read_csv(\"../data/gender.csv\")\n",
    "contributorWithoutDialogueGender = pd.read_csv(\"../data/contributorWithoutDialogueGender.csv\")\n",
    "gender_dataset2 = pd.concat([gender_dataset, contributorWithoutDialogueGender])\n",
    "\n",
    "contributorsUppercase = contributors_dataset\n",
    "# lowercase all the names so they can match\n",
    "gender_dataset2[\"name\"] = gender_dataset2[\"name\"].str.lower()\n",
    "contributors_dataset[\"name\"] = contributors_dataset[\"name\"].str.lower()\n",
    "\n",
    "# merge contributor listing with gender listing\n",
    "contributors_gender = contributors_dataset.merge(gender_dataset2, on=\"name\")"
   ]
  },
  {
   "cell_type": "code",
   "execution_count": 28,
   "metadata": {},
   "outputs": [],
   "source": [
    "df[\"name\"] = df[\"name\"].str.lower()\n",
    "subjectsPerAct = df[(df[\"role\"]==\"subject\")][[\"episode-act\",\"name\",\"gender\",\"wordCount\"]].groupby([\"name\",\"episode-act\",\"gender\"]).sum()[\"wordCount\"].reset_index()"
   ]
  },
  {
   "cell_type": "code",
   "execution_count": null,
   "metadata": {
    "collapsed": true
   },
   "outputs": [],
   "source": [
    "contributors_gender.to_csv(\"../data/producersOfEachAct.csv\", index=False)\n",
    "subjectsPerAct.to_csv(\"../data/subjectsOfEachAct.csv\", index=False)"
   ]
  },
  {
   "cell_type": "code",
   "execution_count": null,
   "metadata": {
    "collapsed": true
   },
   "outputs": [],
   "source": [
    "# getting reporter gender breakdown per act\n",
    "producerGenders = []\n",
    "\n",
    "for episode in range(1, 624):\n",
    "    for act in range(0, 22):\n",
    "        episodeAct = episode + float(act) * 0.01\n",
    "        producers = contributors_gender[contributors_gender[\"episode-act\"]== episodeAct]\n",
    "        maleCount = 0\n",
    "        femaleCount = 0\n",
    "        for index, row in producers.iterrows():\n",
    "#             if (row[\"name\"] != \"ira glass\"):\n",
    "            if row[\"gender\"] == \"M\":\n",
    "                maleCount += 1\n",
    "            if row[\"gender\"] == \"F\":\n",
    "                femaleCount += 1\n",
    "        total = float(femaleCount + maleCount)\n",
    "        malepercent = -1\n",
    "        femalepercent = -1\n",
    "        if total != 0:\n",
    "            malepercent = maleCount/total\n",
    "            femalepercent = femaleCount/total\n",
    "        producerGenders.append([episodeAct, malepercent, femalepercent, maleCount, femaleCount, total])\n",
    "\n",
    "with open('../data/producersGender.csv', 'wb') as f: \n",
    "    w = csv.writer(f)\n",
    "    w.writerow([\"episode-act\",\"male%\",\"female%\",\"male\",\"female\",\"total\"])\n",
    "    for list1 in producerGenders:\n",
    "        w.writerow(list1)"
   ]
  },
  {
   "cell_type": "code",
   "execution_count": null,
   "metadata": {
    "collapsed": true
   },
   "outputs": [],
   "source": [
    "producerGenderData = pd.read_csv(\"../data/producersGender.csv\")\n",
    "producerGenderData = producerGenderData.drop_duplicates()"
   ]
  },
  {
   "cell_type": "code",
   "execution_count": 8,
   "metadata": {},
   "outputs": [
    {
     "data": {
      "text/plain": [
       "(2467, 6)"
      ]
     },
     "execution_count": 8,
     "metadata": {},
     "output_type": "execute_result"
    }
   ],
   "source": [
    "# exclude prologues, credits, and acts where no reporter is listed\n",
    "producerGenderData[(producerGenderData[\"male%\"] != -1)  & (producerGenderData[\"episode-act\"] != 0.00) & (producerGenderData[\"episode-act\"] != 0.21)].shape"
   ]
  },
  {
   "cell_type": "code",
   "execution_count": 9,
   "metadata": {
    "collapsed": true
   },
   "outputs": [],
   "source": [
    "# getting subject/interviewee gender breakdown per act\n",
    "subjectsPerActAltered = []\n",
    "\n",
    "for episode in range(1, 624):\n",
    "    for act in range(0, 22):\n",
    "        episodeAct = episode + float(act) * 0.01\n",
    "        producers = contributors_gender[contributors_gender[\"episode-act\"]== episodeAct]\n",
    "        subjects = subjectsPerAct[subjectsPerAct[\"episode-act\"] == episodeAct]\n",
    "        for index, srow in subjects.iterrows():\n",
    "            for index2, prow in producers.iterrows():\n",
    "                if srow[\"name\"].lower() != prow[\"name\"].lower():\n",
    "                    subjectsPerActAltered.append([srow[\"name\"], episodeAct, srow[\"gender\"], srow[\"wordCount\"]])\n",
    "\n",
    "with open('../data/subjectGendersWithoutProducers.csv', 'wb') as f: \n",
    "    w = csv.writer(f)\n",
    "    w.writerow([\"name\", \"episode-act\",\"gender\", \"wordCount\"])\n",
    "    for list1 in subjectsPerActAltered:\n",
    "        w.writerow(list1)"
   ]
  },
  {
   "cell_type": "code",
   "execution_count": 10,
   "metadata": {
    "collapsed": true
   },
   "outputs": [],
   "source": [
    "subjectsPerAct2 = pd.read_csv(\"../data/subjectGendersWithoutProducers.csv\").groupby([\"gender\", \"episode-act\"])[\"wordCount\"].sum().reset_index()"
   ]
  },
  {
   "cell_type": "code",
   "execution_count": 11,
   "metadata": {
    "collapsed": true
   },
   "outputs": [],
   "source": [
    "maleSubjects = subjectsPerAct2[subjectsPerAct2[\"gender\"]==\"M\"]\n",
    "femaleSubjects = subjectsPerAct2[subjectsPerAct2[\"gender\"]==\"F\"]\n",
    "mergedSubjects = maleSubjects.merge(femaleSubjects, on=\"episode-act\", how=\"outer\").fillna(0)\n",
    "mergedSubjects[\"total\"] = mergedSubjects[\"wordCount_x\"]+mergedSubjects[\"wordCount_y\"]\n",
    "mergedSubjects[\"male%\"] = mergedSubjects[\"wordCount_x\"]/mergedSubjects[\"total\"]\n",
    "subjects = mergedSubjects[[\"episode-act\",\"male%\",\"wordCount_x\",\"total\"]]"
   ]
  },
  {
   "cell_type": "code",
   "execution_count": 12,
   "metadata": {
    "collapsed": true
   },
   "outputs": [],
   "source": [
    "# merge producer gender data and interviewee gender data into one spreadsheet\n",
    "producerSubject = producerGenderData.merge(subjects, on=\"episode-act\")[[\"episode-act\", \"male%_x\",\"total_x\",\"male%_y\",\"wordCount_x\",\"total_y\"]]\n",
    "producerSubject.columns = [\"episode-act\",\"percentMaleProducers\",\"totalProducerCount\",\"percentMaleSubjectDialogue\",\"maleSubjectWordCount\",\"totalSubjectWordCount\"]\n",
    "actInfo = pd.read_csv(\"../data/actInfo.csv\")\n",
    "mergedAct3 = producerSubject.merge(actInfo, on=\"episode-act\")\n",
    "mergedAct3 = mergedAct3[mergedAct3[\"act\"] != 0]\n",
    "mergedAct3[\"percentMaleProducers\"] = mergedAct3[\"percentMaleProducers\"]*100\n",
    "mergedAct3[\"percentMaleSubjectDialogue\"] = mergedAct3[\"percentMaleSubjectDialogue\"]*100"
   ]
  },
  {
   "cell_type": "code",
   "execution_count": 13,
   "metadata": {
    "collapsed": true
   },
   "outputs": [],
   "source": [
    "# export spreadsheet for use\n",
    "mergedAct3 = mergedAct3.sort_values(\"percentMaleSubjectDialogue\", ascending = False)\n",
    "mergedAct3.to_csv(\"../web/src/assets/data/act3.csv\", index=False)"
   ]
  },
  {
   "cell_type": "code",
   "execution_count": 14,
   "metadata": {
    "scrolled": true
   },
   "outputs": [
    {
     "data": {
      "text/plain": [
       "(68.686856100131877, 64.744854353538258)"
      ]
     },
     "execution_count": 14,
     "metadata": {},
     "output_type": "execute_result"
    }
   ],
   "source": [
    "#average amount of male interviewee dialogue for male reported acts and female reported acts\n",
    "male = mergedAct3[mergedAct3[\"percentMaleProducers\"] == 100]\n",
    "female = mergedAct3[(mergedAct3[\"percentMaleProducers\"] == 0)]\n",
    "male[\"percentMaleSubjectDialogue\"].mean(), female[\"percentMaleSubjectDialogue\"].mean()"
   ]
  },
  {
   "cell_type": "code",
   "execution_count": 15,
   "metadata": {
    "scrolled": true
   },
   "outputs": [
    {
     "data": {
      "text/plain": [
       "0.59472049689441"
      ]
     },
     "execution_count": 15,
     "metadata": {},
     "output_type": "execute_result"
    }
   ],
   "source": [
    "maleContributorCount = len(contributors_gender[contributors_gender[\"gender\"]==\"M\"][\"name\"].drop_duplicates())\n",
    "femaleContributorCount = len(contributors_gender[contributors_gender[\"gender\"]==\"F\"][\"name\"].drop_duplicates())\n",
    "#percent of contributors that are male\n",
    "maleContributorCount/float(maleContributorCount+femaleContributorCount)"
   ]
  },
  {
   "cell_type": "code",
   "execution_count": 24,
   "metadata": {},
   "outputs": [
    {
     "name": "stdout",
     "output_type": "stream",
     "text": [
      "1995 941 23 0.976141078838\n",
      "1996 192 189 0.503937007874\n",
      "1997 79 34 0.699115044248\n",
      "1998 119 32 0.788079470199\n",
      "1999 62 48 0.563636363636\n",
      "2000 33 78 0.297297297297\n",
      "2001 84 21 0.8\n",
      "2002 53 19 0.736111111111\n",
      "2003 22 10 0.6875\n",
      "2004 39 50 0.438202247191\n",
      "2005 25 20 0.555555555556\n",
      "2006 19 12 0.612903225806\n",
      "2007 25 9 0.735294117647\n",
      "2008 38 25 0.603174603175\n",
      "2009 26 64 0.288888888889\n",
      "2010 60 8 0.882352941176\n",
      "2011 25 12 0.675675675676\n",
      "2012 42 43 0.494117647059\n",
      "2013 6 14 0.3\n",
      "2014 17 43 0.283333333333\n",
      "2015 24 15 0.615384615385\n",
      "2016 16 13 0.551724137931\n",
      "2017 3 5 0.375\n"
     ]
    }
   ],
   "source": [
    "# calculating % of contributors that are male per year\n",
    "episodes = pd.read_table(\"../data/episodes.tsv\")\n",
    "contributorsByYear = contributors_gender.merge(episodes, on=\"episode\")\n",
    "contributorsByYear = contributorsByYear[[\"gender\",\"name\",\"year\"]]\n",
    "\n",
    "for year in range(1995,2018):\n",
    "    subset = contributorsByYear[contributorsByYear[\"year\"]== year]\n",
    "    male = len(subset[subset[\"gender\"]==\"M\"])\n",
    "    female = len(subset[subset[\"gender\"]==\"F\"])\n",
    "    print year, male, female, male/float(female + male)\n"
   ]
  },
  {
   "cell_type": "code",
   "execution_count": 31,
   "metadata": {},
   "outputs": [
    {
     "ename": "NameError",
     "evalue": "name 'subjectsPerYear3' is not defined",
     "output_type": "error",
     "traceback": [
      "\u001b[0;31m---------------------------------------------------------------------------\u001b[0m",
      "\u001b[0;31mNameError\u001b[0m                                 Traceback (most recent call last)",
      "\u001b[0;32m<ipython-input-31-3aeccb420c22>\u001b[0m in \u001b[0;36m<module>\u001b[0;34m()\u001b[0m\n\u001b[1;32m      1\u001b[0m \u001b[0;31m# calculating % of interviewees that are male per year\u001b[0m\u001b[0;34m\u001b[0m\u001b[0;34m\u001b[0m\u001b[0m\n\u001b[1;32m      2\u001b[0m \u001b[0msubjectsPerAct3\u001b[0m \u001b[0;34m=\u001b[0m \u001b[0mdf\u001b[0m\u001b[0;34m[\u001b[0m\u001b[0;34m(\u001b[0m\u001b[0mdf\u001b[0m\u001b[0;34m[\u001b[0m\u001b[0;34m\"role\"\u001b[0m\u001b[0;34m]\u001b[0m\u001b[0;34m==\u001b[0m\u001b[0;34m\"subject\"\u001b[0m\u001b[0;34m)\u001b[0m\u001b[0;34m]\u001b[0m\u001b[0;34m[\u001b[0m\u001b[0;34m[\u001b[0m\u001b[0;34m\"episode-act\"\u001b[0m\u001b[0;34m,\u001b[0m\u001b[0;34m\"episode\"\u001b[0m\u001b[0;34m,\u001b[0m\u001b[0;34m\"name\"\u001b[0m\u001b[0;34m,\u001b[0m\u001b[0;34m\"gender\"\u001b[0m\u001b[0;34m,\u001b[0m\u001b[0;34m\"wordCount\"\u001b[0m\u001b[0;34m]\u001b[0m\u001b[0;34m]\u001b[0m\u001b[0;34m.\u001b[0m\u001b[0mgroupby\u001b[0m\u001b[0;34m(\u001b[0m\u001b[0;34m[\u001b[0m\u001b[0;34m\"name\"\u001b[0m\u001b[0;34m,\u001b[0m\u001b[0;34m\"episode-act\"\u001b[0m\u001b[0;34m,\u001b[0m\u001b[0;34m\"episode\"\u001b[0m\u001b[0;34m,\u001b[0m\u001b[0;34m\"gender\"\u001b[0m\u001b[0;34m]\u001b[0m\u001b[0;34m)\u001b[0m\u001b[0;34m.\u001b[0m\u001b[0msum\u001b[0m\u001b[0;34m(\u001b[0m\u001b[0;34m)\u001b[0m\u001b[0;34m[\u001b[0m\u001b[0;34m\"wordCount\"\u001b[0m\u001b[0;34m]\u001b[0m\u001b[0;34m.\u001b[0m\u001b[0mreset_index\u001b[0m\u001b[0;34m(\u001b[0m\u001b[0;34m)\u001b[0m\u001b[0;34m\u001b[0m\u001b[0m\n\u001b[0;32m----> 3\u001b[0;31m \u001b[0msubjectsPerYear3\u001b[0m \u001b[0;34m=\u001b[0m \u001b[0msubjectsPerYear3\u001b[0m\u001b[0;34m.\u001b[0m\u001b[0mmerge\u001b[0m\u001b[0;34m(\u001b[0m\u001b[0mepisodes\u001b[0m\u001b[0;34m,\u001b[0m \u001b[0mon\u001b[0m\u001b[0;34m=\u001b[0m\u001b[0;34m\"episode\"\u001b[0m\u001b[0;34m)\u001b[0m\u001b[0;34m\u001b[0m\u001b[0m\n\u001b[0m\u001b[1;32m      4\u001b[0m \u001b[0msubjectsPerYear3\u001b[0m \u001b[0;34m=\u001b[0m \u001b[0msubjectsPerYear3\u001b[0m\u001b[0;34m[\u001b[0m\u001b[0;34m[\u001b[0m\u001b[0;34m\"gender\"\u001b[0m\u001b[0;34m,\u001b[0m\u001b[0;34m\"name\"\u001b[0m\u001b[0;34m,\u001b[0m\u001b[0;34m\"year\"\u001b[0m\u001b[0;34m]\u001b[0m\u001b[0;34m]\u001b[0m\u001b[0;34m\u001b[0m\u001b[0m\n\u001b[1;32m      5\u001b[0m \u001b[0;32mfor\u001b[0m \u001b[0myear\u001b[0m \u001b[0;32min\u001b[0m \u001b[0mrange\u001b[0m\u001b[0;34m(\u001b[0m\u001b[0;36m1995\u001b[0m\u001b[0;34m,\u001b[0m\u001b[0;36m2018\u001b[0m\u001b[0;34m)\u001b[0m\u001b[0;34m:\u001b[0m\u001b[0;34m\u001b[0m\u001b[0m\n",
      "\u001b[0;31mNameError\u001b[0m: name 'subjectsPerYear3' is not defined"
     ]
    }
   ],
   "source": [
    "# calculating % of interviewees that are male per year\n",
    "subjectsPerAct3 = df[(df[\"role\"]==\"subject\")][[\"episode-act\",\"episode\",\"name\",\"gender\",\"wordCount\"]].groupby([\"name\",\"episode-act\",\"episode\",\"gender\"]).sum()[\"wordCount\"].reset_index()\n",
    "subjectsPerYear3 = subjectsPerAct3.merge(episodes, on=\"episode\")\n",
    "subjectsPerYear3 = subjectsPerYear3[[\"gender\",\"name\",\"year\"]]\n",
    "for year in range(1995,2018):\n",
    "    subset = subjectsPerYear3[subjectsPerYear3[\"year\"]== year]\n",
    "    male = len(subset[subset[\"gender\"]==\"M\"])\n",
    "    female = len(subset[subset[\"gender\"]==\"F\"])\n",
    "    print year + \"\\t\" + male + \"\\t\" + female + \"\\t\" + male/float(female + male)"
   ]
  },
  {
   "cell_type": "code",
   "execution_count": null,
   "metadata": {
    "collapsed": true
   },
   "outputs": [],
   "source": []
  }
 ],
 "metadata": {
  "kernelspec": {
   "display_name": "Python 2",
   "language": "python",
   "name": "python2"
  },
  "language_info": {
   "codemirror_mode": {
    "name": "ipython",
    "version": 2
   },
   "file_extension": ".py",
   "mimetype": "text/x-python",
   "name": "python",
   "nbconvert_exporter": "python",
   "pygments_lexer": "ipython2",
   "version": "2.7.13"
  }
 },
 "nbformat": 4,
 "nbformat_minor": 2
}
